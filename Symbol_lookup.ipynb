{
 "cells": [
  {
   "cell_type": "code",
   "execution_count": 1,
   "metadata": {},
   "outputs": [
    {
     "name": "stdout",
     "output_type": "stream",
     "text": [
      "{'count': 20, 'result': [{'description': 'MAVEN BRANDS INC', 'displaySymbol': 'MJ.CN', 'symbol': 'MJ.CN', 'type': 'Common Stock'}, {'description': 'AMPLIFY ALTERNATIVE HARVEST', 'displaySymbol': 'MJ', 'symbol': 'MJ', 'type': 'ETP'}, {'description': 'MAVEN BRANDS INC', 'displaySymbol': 'MJ.NE', 'symbol': 'MJ.NE', 'type': 'Common Stock'}, {'description': 'MOJ SA', 'displaySymbol': '0LW0.L', 'symbol': '0LW0.L', 'type': 'Common Stock'}, {'description': 'MOJ SA', 'displaySymbol': 'MOJ.WA', 'symbol': 'MOJ.WA', 'type': 'Common Stock'}, {'description': 'Sampo Oyj', 'displaySymbol': 'A2RSGJ.BE', 'symbol': 'A2RSGJ.BE', 'type': ''}, {'description': 'Sampo Oyj', 'displaySymbol': 'A2RSGJ.MU', 'symbol': 'A2RSGJ.MU', 'type': ''}, {'description': 'MXN/JPY', 'displaySymbol': 'CAPITAL:MXNJPY', 'symbol': 'CAPITAL:MXNJPY', 'type': 'FX'}, {'description': 'Sampo Oyj', 'displaySymbol': 'A2RSGJ.DU', 'symbol': 'A2RSGJ.DU', 'type': ''}, {'description': 'CMC JSC', 'displaySymbol': 'CVT.VN', 'symbol': 'CVT.VN', 'type': 'Common Stock'}, {'description': 'Sampo Oyj', 'displaySymbol': 'A2RSGJ.HM', 'symbol': 'A2RSGJ.HM', 'type': ''}, {'description': 'Sampo Oyj', 'displaySymbol': 'A2R2LD.HM', 'symbol': 'A2R2LD.HM', 'type': ''}, {'description': 'Sampo Oyj', 'displaySymbol': 'A2R2LD.DU', 'symbol': 'A2R2LD.DU', 'type': ''}, {'description': 'Sampo Oyj', 'displaySymbol': 'A2R2LD.MU', 'symbol': 'A2R2LD.MU', 'type': ''}, {'description': 'Fortum Oyj', 'displaySymbol': 'A2RYDK.DU', 'symbol': 'A2RYDK.DU', 'type': ''}, {'description': 'Fortum Oyj', 'displaySymbol': 'A2RYDL.HM', 'symbol': 'A2RYDL.HM', 'type': ''}, {'description': 'Fortum Oyj', 'displaySymbol': 'A2RYDL.DU', 'symbol': 'A2RYDL.DU', 'type': ''}, {'description': 'Fortum Oyj', 'displaySymbol': 'A2RYDK.HM', 'symbol': 'A2RYDK.HM', 'type': ''}, {'description': 'Fortum Oyj', 'displaySymbol': 'A3LH5Y.BE', 'symbol': 'A3LH5Y.BE', 'type': ''}, {'description': 'Kojamo Oyj', 'displaySymbol': 'A3KRNP.MU', 'symbol': 'A3KRNP.MU', 'type': ''}]}\n"
     ]
    }
   ],
   "source": [
    "import finnhub\n",
    "finnhub_client = finnhub.Client(api_key=\"ct4hebhr01qo7vqamo40ct4hebhr01qo7vqamo4g\")\n",
    "\n",
    "print(finnhub_client.symbol_lookup('MJ'))"
   ]
  }
 ],
 "metadata": {
  "kernelspec": {
   "display_name": "Python 3",
   "language": "python",
   "name": "python3"
  },
  "language_info": {
   "codemirror_mode": {
    "name": "ipython",
    "version": 3
   },
   "file_extension": ".py",
   "mimetype": "text/x-python",
   "name": "python",
   "nbconvert_exporter": "python",
   "pygments_lexer": "ipython3",
   "version": "3.12.0"
  }
 },
 "nbformat": 4,
 "nbformat_minor": 2
}
